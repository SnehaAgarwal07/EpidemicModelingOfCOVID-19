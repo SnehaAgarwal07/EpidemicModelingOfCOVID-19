{
 "cells": [
  {
   "cell_type": "markdown",
   "metadata": {
    "colab_type": "text",
    "id": "Z4u5LkvlQ8YV"
   },
   "source": [
    "# SIR Model for COVID-19"
   ]
  },
  {
   "cell_type": "markdown",
   "metadata": {
    "colab_type": "text",
    "id": "MLSZCHk5RBYk"
   },
   "source": [
    "COVID-19 has put all our lives at  a stand still. It has infected more than 2.9 million people around the world, out of which approximately 206,728 people lost their lives to this disease. \n",
    "\n",
    "We have used the SIR model to forecast the transmission rate of this deadly disease. This model puts everyone in one of the three categories: Susceptible, Infected or Resistant. In the initial timestep, all the patients will fall into the infected category and everyone else is susceptible. "
   ]
  },
  {
   "cell_type": "code",
   "execution_count": 4,
   "metadata": {
    "colab": {},
    "colab_type": "code",
    "id": "U4MyPkw3RDOJ"
   },
   "outputs": [
    {
     "ename": "ModuleNotFoundError",
     "evalue": "No module named 'cv2'",
     "output_type": "error",
     "traceback": [
      "\u001b[0;31m---------------------------------------------------------------------------\u001b[0m",
      "\u001b[0;31mModuleNotFoundError\u001b[0m                       Traceback (most recent call last)",
      "\u001b[0;32m<ipython-input-4-f112f37374d9>\u001b[0m in \u001b[0;36m<module>\u001b[0;34m\u001b[0m\n\u001b[1;32m      1\u001b[0m \u001b[0;31m# Install jax, numpyro and pyro-ppl\u001b[0m\u001b[0;34m\u001b[0m\u001b[0;34m\u001b[0m\u001b[0;34m\u001b[0m\u001b[0m\n\u001b[1;32m      2\u001b[0m \u001b[0;32mimport\u001b[0m \u001b[0mmatplotlib\u001b[0m\u001b[0;34m\u001b[0m\u001b[0;34m\u001b[0m\u001b[0m\n\u001b[0;32m----> 3\u001b[0;31m \u001b[0;32mimport\u001b[0m \u001b[0mcv2\u001b[0m\u001b[0;34m\u001b[0m\u001b[0;34m\u001b[0m\u001b[0m\n\u001b[0m\u001b[1;32m      4\u001b[0m \u001b[0;32mimport\u001b[0m \u001b[0mmatplotlib\u001b[0m\u001b[0;34m.\u001b[0m\u001b[0mimage\u001b[0m \u001b[0;32mas\u001b[0m \u001b[0mmpimg\u001b[0m\u001b[0;34m\u001b[0m\u001b[0;34m\u001b[0m\u001b[0m\n\u001b[1;32m      5\u001b[0m \u001b[0;32mimport\u001b[0m \u001b[0mmatplotlib\u001b[0m\u001b[0;34m.\u001b[0m\u001b[0mpyplot\u001b[0m \u001b[0;32mas\u001b[0m \u001b[0mplt\u001b[0m\u001b[0;34m\u001b[0m\u001b[0;34m\u001b[0m\u001b[0m\n",
      "\u001b[0;31mModuleNotFoundError\u001b[0m: No module named 'cv2'"
     ]
    }
   ],
   "source": [
    "# Install jax, numpyro and pyro-ppl\n",
    "import matplotlib\n",
    "import cv2\n",
    "import matplotlib.image as mpimg\n",
    "import matplotlib.pyplot as plt\n",
    "import seaborn as sns\n",
    "from jax.experimental.ode import build_odeint\n",
    "import jax.numpy as np\n",
    "import jax.random as random\n",
    "from jax.random import PRNGKey\n",
    "import numpy as onp\n",
    "import pandas as pd\n",
    "import numpyro\n",
    "import numpyro.distributions as dist\n",
    "from numpyro.infer import MCMC, NUTS, Predictive\n",
    "from numpyro import handlers\n",
    "from jax import vmap\n",
    "import datetime\n",
    "from IPython.display import display, Markdown\n",
    "import requests\n",
    "import io\n",
    "sns.set_context('talk')\n",
    "plt.style.use('seaborn-whitegrid')"
   ]
  },
  {
   "cell_type": "code",
   "execution_count": 2,
   "metadata": {
    "colab": {
     "base_uri": "https://localhost:8080/",
     "height": 168
    },
    "colab_type": "code",
    "id": "3KhRD9zORFw7",
    "outputId": "e97e476b-6d40-4c5b-e2d9-429084c757b6"
   },
   "outputs": [
    {
     "ename": "FileNotFoundError",
     "evalue": "[Errno 2] No such file or directory: 'sir.jpeg'",
     "output_type": "error",
     "traceback": [
      "\u001b[0;31m---------------------------------------------------------------------------\u001b[0m",
      "\u001b[0;31mFileNotFoundError\u001b[0m                         Traceback (most recent call last)",
      "\u001b[0;32m<ipython-input-2-2766b3b22eab>\u001b[0m in \u001b[0;36m<module>\u001b[0;34m\u001b[0m\n\u001b[0;32m----> 1\u001b[0;31m \u001b[0mimg_sir\u001b[0m \u001b[0;34m=\u001b[0m \u001b[0mmpimg\u001b[0m\u001b[0;34m.\u001b[0m\u001b[0mimread\u001b[0m\u001b[0;34m(\u001b[0m\u001b[0;34m\"sir.jpeg\"\u001b[0m\u001b[0;34m)\u001b[0m\u001b[0;34m\u001b[0m\u001b[0;34m\u001b[0m\u001b[0m\n\u001b[0m\u001b[1;32m      2\u001b[0m \u001b[0mfig\u001b[0m \u001b[0;34m=\u001b[0m \u001b[0mplt\u001b[0m\u001b[0;34m.\u001b[0m\u001b[0mfigure\u001b[0m\u001b[0;34m(\u001b[0m\u001b[0mfigsize\u001b[0m\u001b[0;34m=\u001b[0m\u001b[0;34m(\u001b[0m\u001b[0;36m8\u001b[0m\u001b[0;34m,\u001b[0m \u001b[0;36m8\u001b[0m\u001b[0;34m)\u001b[0m\u001b[0;34m)\u001b[0m\u001b[0;34m\u001b[0m\u001b[0;34m\u001b[0m\u001b[0m\n\u001b[1;32m      3\u001b[0m \u001b[0mplt\u001b[0m\u001b[0;34m.\u001b[0m\u001b[0mimshow\u001b[0m\u001b[0;34m(\u001b[0m\u001b[0mimg_sir\u001b[0m\u001b[0;34m)\u001b[0m\u001b[0;34m\u001b[0m\u001b[0;34m\u001b[0m\u001b[0m\n\u001b[1;32m      4\u001b[0m \u001b[0mplt\u001b[0m\u001b[0;34m.\u001b[0m\u001b[0mxticks\u001b[0m\u001b[0;34m(\u001b[0m\u001b[0;34m[\u001b[0m\u001b[0;34m]\u001b[0m\u001b[0;34m)\u001b[0m\u001b[0;34m\u001b[0m\u001b[0;34m\u001b[0m\u001b[0m\n\u001b[1;32m      5\u001b[0m \u001b[0mplt\u001b[0m\u001b[0;34m.\u001b[0m\u001b[0myticks\u001b[0m\u001b[0;34m(\u001b[0m\u001b[0;34m[\u001b[0m\u001b[0;34m]\u001b[0m\u001b[0;34m)\u001b[0m\u001b[0;34m\u001b[0m\u001b[0;34m\u001b[0m\u001b[0m\n",
      "\u001b[0;32m/Library/Frameworks/Python.framework/Versions/3.7/lib/python3.7/site-packages/matplotlib/image.py\u001b[0m in \u001b[0;36mimread\u001b[0;34m(fname, format)\u001b[0m\n\u001b[1;32m   1415\u001b[0m                              \u001b[0;34m'with Pillow installed matplotlib can handle '\u001b[0m\u001b[0;34m\u001b[0m\u001b[0;34m\u001b[0m\u001b[0m\n\u001b[1;32m   1416\u001b[0m                              'more images' % list(handlers))\n\u001b[0;32m-> 1417\u001b[0;31m         \u001b[0;32mwith\u001b[0m \u001b[0mImage\u001b[0m\u001b[0;34m.\u001b[0m\u001b[0mopen\u001b[0m\u001b[0;34m(\u001b[0m\u001b[0mfname\u001b[0m\u001b[0;34m)\u001b[0m \u001b[0;32mas\u001b[0m \u001b[0mimage\u001b[0m\u001b[0;34m:\u001b[0m\u001b[0;34m\u001b[0m\u001b[0;34m\u001b[0m\u001b[0m\n\u001b[0m\u001b[1;32m   1418\u001b[0m             \u001b[0;32mreturn\u001b[0m \u001b[0mpil_to_array\u001b[0m\u001b[0;34m(\u001b[0m\u001b[0mimage\u001b[0m\u001b[0;34m)\u001b[0m\u001b[0;34m\u001b[0m\u001b[0;34m\u001b[0m\u001b[0m\n\u001b[1;32m   1419\u001b[0m \u001b[0;34m\u001b[0m\u001b[0m\n",
      "\u001b[0;32m/Library/Frameworks/Python.framework/Versions/3.7/lib/python3.7/site-packages/PIL/Image.py\u001b[0m in \u001b[0;36mopen\u001b[0;34m(fp, mode)\u001b[0m\n\u001b[1;32m   2764\u001b[0m \u001b[0;34m\u001b[0m\u001b[0m\n\u001b[1;32m   2765\u001b[0m     \u001b[0;32mif\u001b[0m \u001b[0mfilename\u001b[0m\u001b[0;34m:\u001b[0m\u001b[0;34m\u001b[0m\u001b[0;34m\u001b[0m\u001b[0m\n\u001b[0;32m-> 2766\u001b[0;31m         \u001b[0mfp\u001b[0m \u001b[0;34m=\u001b[0m \u001b[0mbuiltins\u001b[0m\u001b[0;34m.\u001b[0m\u001b[0mopen\u001b[0m\u001b[0;34m(\u001b[0m\u001b[0mfilename\u001b[0m\u001b[0;34m,\u001b[0m \u001b[0;34m\"rb\"\u001b[0m\u001b[0;34m)\u001b[0m\u001b[0;34m\u001b[0m\u001b[0;34m\u001b[0m\u001b[0m\n\u001b[0m\u001b[1;32m   2767\u001b[0m         \u001b[0mexclusive_fp\u001b[0m \u001b[0;34m=\u001b[0m \u001b[0;32mTrue\u001b[0m\u001b[0;34m\u001b[0m\u001b[0;34m\u001b[0m\u001b[0m\n\u001b[1;32m   2768\u001b[0m \u001b[0;34m\u001b[0m\u001b[0m\n",
      "\u001b[0;31mFileNotFoundError\u001b[0m: [Errno 2] No such file or directory: 'sir.jpeg'"
     ]
    }
   ],
   "source": [
    "img_sir = mpimg.imread(\"sir.jpeg\")\n",
    "fig = plt.figure(figsize=(8, 8))\n",
    "plt.imshow(img_sir)\n",
    "plt.xticks([])\n",
    "plt.yticks([])\n",
    "plt.show()"
   ]
  },
  {
   "cell_type": "markdown",
   "metadata": {
    "colab_type": "text",
    "id": "S_4e6uXLR3LL"
   },
   "source": [
    "As we progress over time, some of the susceptible people become infected and some of the infected people become resistant. We assume that the resistant cannot be affected by  the disease again.\n",
    "We have assumed a constant population size and those who have unfortunately died are put into the resistant category, since they cannot spread the virus. \n",
    "\n"
   ]
  },
  {
   "cell_type": "markdown",
   "metadata": {
    "colab_type": "text",
    "id": "5NNnCRDoR7ef"
   },
   "source": [
    "When the infected population increases, more susceptible people will contract the disease. At this point, there will be an exponential increase in the number of cases as we can see in the graph below.  After a point, there will be many recovered cases that the number of susceptible people meeting the infected decreases."
   ]
  },
  {
   "cell_type": "code",
   "execution_count": 3,
   "metadata": {
    "colab": {
     "base_uri": "https://localhost:8080/",
     "height": 315
    },
    "colab_type": "code",
    "id": "jqNCMcvuRHn9",
    "outputId": "1898590a-af9d-43fd-c3b6-daf46dd51383"
   },
   "outputs": [
    {
     "ename": "FileNotFoundError",
     "evalue": "[Errno 2] No such file or directory: 'sir_graph.jpeg'",
     "output_type": "error",
     "traceback": [
      "\u001b[0;31m---------------------------------------------------------------------------\u001b[0m",
      "\u001b[0;31mFileNotFoundError\u001b[0m                         Traceback (most recent call last)",
      "\u001b[0;32m<ipython-input-3-a518f15d0d0e>\u001b[0m in \u001b[0;36m<module>\u001b[0;34m\u001b[0m\n\u001b[0;32m----> 1\u001b[0;31m \u001b[0mimg_sir_graph\u001b[0m \u001b[0;34m=\u001b[0m \u001b[0mmpimg\u001b[0m\u001b[0;34m.\u001b[0m\u001b[0mimread\u001b[0m\u001b[0;34m(\u001b[0m\u001b[0;34m\"sir_graph.jpeg\"\u001b[0m\u001b[0;34m)\u001b[0m\u001b[0;34m\u001b[0m\u001b[0;34m\u001b[0m\u001b[0m\n\u001b[0m\u001b[1;32m      2\u001b[0m \u001b[0mfig\u001b[0m \u001b[0;34m=\u001b[0m \u001b[0mplt\u001b[0m\u001b[0;34m.\u001b[0m\u001b[0mfigure\u001b[0m\u001b[0;34m(\u001b[0m\u001b[0mfigsize\u001b[0m \u001b[0;34m=\u001b[0m \u001b[0;34m(\u001b[0m\u001b[0;36m8\u001b[0m\u001b[0;34m,\u001b[0m \u001b[0;36m8\u001b[0m\u001b[0;34m)\u001b[0m\u001b[0;34m)\u001b[0m\u001b[0;34m\u001b[0m\u001b[0;34m\u001b[0m\u001b[0m\n\u001b[1;32m      3\u001b[0m \u001b[0mplt\u001b[0m\u001b[0;34m.\u001b[0m\u001b[0mimshow\u001b[0m\u001b[0;34m(\u001b[0m\u001b[0mimg_sir_graph\u001b[0m\u001b[0;34m)\u001b[0m\u001b[0;34m\u001b[0m\u001b[0;34m\u001b[0m\u001b[0m\n\u001b[1;32m      4\u001b[0m \u001b[0mplt\u001b[0m\u001b[0;34m.\u001b[0m\u001b[0mxticks\u001b[0m\u001b[0;34m(\u001b[0m\u001b[0;34m[\u001b[0m\u001b[0;34m]\u001b[0m\u001b[0;34m)\u001b[0m\u001b[0;34m\u001b[0m\u001b[0;34m\u001b[0m\u001b[0m\n\u001b[1;32m      5\u001b[0m \u001b[0mplt\u001b[0m\u001b[0;34m.\u001b[0m\u001b[0myticks\u001b[0m\u001b[0;34m(\u001b[0m\u001b[0;34m[\u001b[0m\u001b[0;34m]\u001b[0m\u001b[0;34m)\u001b[0m\u001b[0;34m\u001b[0m\u001b[0;34m\u001b[0m\u001b[0m\n",
      "\u001b[0;32m/Library/Frameworks/Python.framework/Versions/3.7/lib/python3.7/site-packages/matplotlib/image.py\u001b[0m in \u001b[0;36mimread\u001b[0;34m(fname, format)\u001b[0m\n\u001b[1;32m   1415\u001b[0m                              \u001b[0;34m'with Pillow installed matplotlib can handle '\u001b[0m\u001b[0;34m\u001b[0m\u001b[0;34m\u001b[0m\u001b[0m\n\u001b[1;32m   1416\u001b[0m                              'more images' % list(handlers))\n\u001b[0;32m-> 1417\u001b[0;31m         \u001b[0;32mwith\u001b[0m \u001b[0mImage\u001b[0m\u001b[0;34m.\u001b[0m\u001b[0mopen\u001b[0m\u001b[0;34m(\u001b[0m\u001b[0mfname\u001b[0m\u001b[0;34m)\u001b[0m \u001b[0;32mas\u001b[0m \u001b[0mimage\u001b[0m\u001b[0;34m:\u001b[0m\u001b[0;34m\u001b[0m\u001b[0;34m\u001b[0m\u001b[0m\n\u001b[0m\u001b[1;32m   1418\u001b[0m             \u001b[0;32mreturn\u001b[0m \u001b[0mpil_to_array\u001b[0m\u001b[0;34m(\u001b[0m\u001b[0mimage\u001b[0m\u001b[0;34m)\u001b[0m\u001b[0;34m\u001b[0m\u001b[0;34m\u001b[0m\u001b[0m\n\u001b[1;32m   1419\u001b[0m \u001b[0;34m\u001b[0m\u001b[0m\n",
      "\u001b[0;32m/Library/Frameworks/Python.framework/Versions/3.7/lib/python3.7/site-packages/PIL/Image.py\u001b[0m in \u001b[0;36mopen\u001b[0;34m(fp, mode)\u001b[0m\n\u001b[1;32m   2764\u001b[0m \u001b[0;34m\u001b[0m\u001b[0m\n\u001b[1;32m   2765\u001b[0m     \u001b[0;32mif\u001b[0m \u001b[0mfilename\u001b[0m\u001b[0;34m:\u001b[0m\u001b[0;34m\u001b[0m\u001b[0;34m\u001b[0m\u001b[0m\n\u001b[0;32m-> 2766\u001b[0;31m         \u001b[0mfp\u001b[0m \u001b[0;34m=\u001b[0m \u001b[0mbuiltins\u001b[0m\u001b[0;34m.\u001b[0m\u001b[0mopen\u001b[0m\u001b[0;34m(\u001b[0m\u001b[0mfilename\u001b[0m\u001b[0;34m,\u001b[0m \u001b[0;34m\"rb\"\u001b[0m\u001b[0;34m)\u001b[0m\u001b[0;34m\u001b[0m\u001b[0;34m\u001b[0m\u001b[0m\n\u001b[0m\u001b[1;32m   2767\u001b[0m         \u001b[0mexclusive_fp\u001b[0m \u001b[0;34m=\u001b[0m \u001b[0;32mTrue\u001b[0m\u001b[0;34m\u001b[0m\u001b[0;34m\u001b[0m\u001b[0m\n\u001b[1;32m   2768\u001b[0m \u001b[0;34m\u001b[0m\u001b[0m\n",
      "\u001b[0;31mFileNotFoundError\u001b[0m: [Errno 2] No such file or directory: 'sir_graph.jpeg'"
     ]
    }
   ],
   "source": [
    "img_sir_graph = mpimg.imread(\"sir_graph.jpeg\")\n",
    "fig = plt.figure(figsize = (8, 8))\n",
    "plt.imshow(img_sir_graph)\n",
    "plt.xticks([])\n",
    "plt.yticks([])\n",
    "plt.title(\"Variation in S, I and R with time\")\n",
    "plt.show()"
   ]
  },
  {
   "cell_type": "markdown",
   "metadata": {
    "colab_type": "text",
    "id": "G0Kj8Gb1SRLJ"
   },
   "source": [
    "## Loading the data "
   ]
  },
  {
   "cell_type": "code",
   "execution_count": 4,
   "metadata": {
    "cellView": "both",
    "colab": {},
    "colab_type": "code",
    "id": "fAsltrU9SGTT"
   },
   "outputs": [
    {
     "ename": "URLError",
     "evalue": "<urlopen error [Errno 60] Operation timed out>",
     "output_type": "error",
     "traceback": [
      "\u001b[0;31m---------------------------------------------------------------------------\u001b[0m",
      "\u001b[0;31mTimeoutError\u001b[0m                              Traceback (most recent call last)",
      "\u001b[0;32m/Library/Frameworks/Python.framework/Versions/3.7/lib/python3.7/urllib/request.py\u001b[0m in \u001b[0;36mdo_open\u001b[0;34m(self, http_class, req, **http_conn_args)\u001b[0m\n\u001b[1;32m   1316\u001b[0m                 h.request(req.get_method(), req.selector, req.data, headers,\n\u001b[0;32m-> 1317\u001b[0;31m                           encode_chunked=req.has_header('Transfer-encoding'))\n\u001b[0m\u001b[1;32m   1318\u001b[0m             \u001b[0;32mexcept\u001b[0m \u001b[0mOSError\u001b[0m \u001b[0;32mas\u001b[0m \u001b[0merr\u001b[0m\u001b[0;34m:\u001b[0m \u001b[0;31m# timeout error\u001b[0m\u001b[0;34m\u001b[0m\u001b[0;34m\u001b[0m\u001b[0m\n",
      "\u001b[0;32m/Library/Frameworks/Python.framework/Versions/3.7/lib/python3.7/http/client.py\u001b[0m in \u001b[0;36mrequest\u001b[0;34m(self, method, url, body, headers, encode_chunked)\u001b[0m\n\u001b[1;32m   1243\u001b[0m         \u001b[0;34m\"\"\"Send a complete request to the server.\"\"\"\u001b[0m\u001b[0;34m\u001b[0m\u001b[0;34m\u001b[0m\u001b[0m\n\u001b[0;32m-> 1244\u001b[0;31m         \u001b[0mself\u001b[0m\u001b[0;34m.\u001b[0m\u001b[0m_send_request\u001b[0m\u001b[0;34m(\u001b[0m\u001b[0mmethod\u001b[0m\u001b[0;34m,\u001b[0m \u001b[0murl\u001b[0m\u001b[0;34m,\u001b[0m \u001b[0mbody\u001b[0m\u001b[0;34m,\u001b[0m \u001b[0mheaders\u001b[0m\u001b[0;34m,\u001b[0m \u001b[0mencode_chunked\u001b[0m\u001b[0;34m)\u001b[0m\u001b[0;34m\u001b[0m\u001b[0;34m\u001b[0m\u001b[0m\n\u001b[0m\u001b[1;32m   1245\u001b[0m \u001b[0;34m\u001b[0m\u001b[0m\n",
      "\u001b[0;32m/Library/Frameworks/Python.framework/Versions/3.7/lib/python3.7/http/client.py\u001b[0m in \u001b[0;36m_send_request\u001b[0;34m(self, method, url, body, headers, encode_chunked)\u001b[0m\n\u001b[1;32m   1289\u001b[0m             \u001b[0mbody\u001b[0m \u001b[0;34m=\u001b[0m \u001b[0m_encode\u001b[0m\u001b[0;34m(\u001b[0m\u001b[0mbody\u001b[0m\u001b[0;34m,\u001b[0m \u001b[0;34m'body'\u001b[0m\u001b[0;34m)\u001b[0m\u001b[0;34m\u001b[0m\u001b[0;34m\u001b[0m\u001b[0m\n\u001b[0;32m-> 1290\u001b[0;31m         \u001b[0mself\u001b[0m\u001b[0;34m.\u001b[0m\u001b[0mendheaders\u001b[0m\u001b[0;34m(\u001b[0m\u001b[0mbody\u001b[0m\u001b[0;34m,\u001b[0m \u001b[0mencode_chunked\u001b[0m\u001b[0;34m=\u001b[0m\u001b[0mencode_chunked\u001b[0m\u001b[0;34m)\u001b[0m\u001b[0;34m\u001b[0m\u001b[0;34m\u001b[0m\u001b[0m\n\u001b[0m\u001b[1;32m   1291\u001b[0m \u001b[0;34m\u001b[0m\u001b[0m\n",
      "\u001b[0;32m/Library/Frameworks/Python.framework/Versions/3.7/lib/python3.7/http/client.py\u001b[0m in \u001b[0;36mendheaders\u001b[0;34m(self, message_body, encode_chunked)\u001b[0m\n\u001b[1;32m   1238\u001b[0m             \u001b[0;32mraise\u001b[0m \u001b[0mCannotSendHeader\u001b[0m\u001b[0;34m(\u001b[0m\u001b[0;34m)\u001b[0m\u001b[0;34m\u001b[0m\u001b[0;34m\u001b[0m\u001b[0m\n\u001b[0;32m-> 1239\u001b[0;31m         \u001b[0mself\u001b[0m\u001b[0;34m.\u001b[0m\u001b[0m_send_output\u001b[0m\u001b[0;34m(\u001b[0m\u001b[0mmessage_body\u001b[0m\u001b[0;34m,\u001b[0m \u001b[0mencode_chunked\u001b[0m\u001b[0;34m=\u001b[0m\u001b[0mencode_chunked\u001b[0m\u001b[0;34m)\u001b[0m\u001b[0;34m\u001b[0m\u001b[0;34m\u001b[0m\u001b[0m\n\u001b[0m\u001b[1;32m   1240\u001b[0m \u001b[0;34m\u001b[0m\u001b[0m\n",
      "\u001b[0;32m/Library/Frameworks/Python.framework/Versions/3.7/lib/python3.7/http/client.py\u001b[0m in \u001b[0;36m_send_output\u001b[0;34m(self, message_body, encode_chunked)\u001b[0m\n\u001b[1;32m   1025\u001b[0m         \u001b[0;32mdel\u001b[0m \u001b[0mself\u001b[0m\u001b[0;34m.\u001b[0m\u001b[0m_buffer\u001b[0m\u001b[0;34m[\u001b[0m\u001b[0;34m:\u001b[0m\u001b[0;34m]\u001b[0m\u001b[0;34m\u001b[0m\u001b[0;34m\u001b[0m\u001b[0m\n\u001b[0;32m-> 1026\u001b[0;31m         \u001b[0mself\u001b[0m\u001b[0;34m.\u001b[0m\u001b[0msend\u001b[0m\u001b[0;34m(\u001b[0m\u001b[0mmsg\u001b[0m\u001b[0;34m)\u001b[0m\u001b[0;34m\u001b[0m\u001b[0;34m\u001b[0m\u001b[0m\n\u001b[0m\u001b[1;32m   1027\u001b[0m \u001b[0;34m\u001b[0m\u001b[0m\n",
      "\u001b[0;32m/Library/Frameworks/Python.framework/Versions/3.7/lib/python3.7/http/client.py\u001b[0m in \u001b[0;36msend\u001b[0;34m(self, data)\u001b[0m\n\u001b[1;32m    965\u001b[0m             \u001b[0;32mif\u001b[0m \u001b[0mself\u001b[0m\u001b[0;34m.\u001b[0m\u001b[0mauto_open\u001b[0m\u001b[0;34m:\u001b[0m\u001b[0;34m\u001b[0m\u001b[0;34m\u001b[0m\u001b[0m\n\u001b[0;32m--> 966\u001b[0;31m                 \u001b[0mself\u001b[0m\u001b[0;34m.\u001b[0m\u001b[0mconnect\u001b[0m\u001b[0;34m(\u001b[0m\u001b[0;34m)\u001b[0m\u001b[0;34m\u001b[0m\u001b[0;34m\u001b[0m\u001b[0m\n\u001b[0m\u001b[1;32m    967\u001b[0m             \u001b[0;32melse\u001b[0m\u001b[0;34m:\u001b[0m\u001b[0;34m\u001b[0m\u001b[0;34m\u001b[0m\u001b[0m\n",
      "\u001b[0;32m/Library/Frameworks/Python.framework/Versions/3.7/lib/python3.7/http/client.py\u001b[0m in \u001b[0;36mconnect\u001b[0;34m(self)\u001b[0m\n\u001b[1;32m   1405\u001b[0m \u001b[0;34m\u001b[0m\u001b[0m\n\u001b[0;32m-> 1406\u001b[0;31m             \u001b[0msuper\u001b[0m\u001b[0;34m(\u001b[0m\u001b[0;34m)\u001b[0m\u001b[0;34m.\u001b[0m\u001b[0mconnect\u001b[0m\u001b[0;34m(\u001b[0m\u001b[0;34m)\u001b[0m\u001b[0;34m\u001b[0m\u001b[0;34m\u001b[0m\u001b[0m\n\u001b[0m\u001b[1;32m   1407\u001b[0m \u001b[0;34m\u001b[0m\u001b[0m\n",
      "\u001b[0;32m/Library/Frameworks/Python.framework/Versions/3.7/lib/python3.7/http/client.py\u001b[0m in \u001b[0;36mconnect\u001b[0;34m(self)\u001b[0m\n\u001b[1;32m    937\u001b[0m         self.sock = self._create_connection(\n\u001b[0;32m--> 938\u001b[0;31m             (self.host,self.port), self.timeout, self.source_address)\n\u001b[0m\u001b[1;32m    939\u001b[0m         \u001b[0mself\u001b[0m\u001b[0;34m.\u001b[0m\u001b[0msock\u001b[0m\u001b[0;34m.\u001b[0m\u001b[0msetsockopt\u001b[0m\u001b[0;34m(\u001b[0m\u001b[0msocket\u001b[0m\u001b[0;34m.\u001b[0m\u001b[0mIPPROTO_TCP\u001b[0m\u001b[0;34m,\u001b[0m \u001b[0msocket\u001b[0m\u001b[0;34m.\u001b[0m\u001b[0mTCP_NODELAY\u001b[0m\u001b[0;34m,\u001b[0m \u001b[0;36m1\u001b[0m\u001b[0;34m)\u001b[0m\u001b[0;34m\u001b[0m\u001b[0;34m\u001b[0m\u001b[0m\n",
      "\u001b[0;32m/Library/Frameworks/Python.framework/Versions/3.7/lib/python3.7/socket.py\u001b[0m in \u001b[0;36mcreate_connection\u001b[0;34m(address, timeout, source_address)\u001b[0m\n\u001b[1;32m    726\u001b[0m     \u001b[0;32mif\u001b[0m \u001b[0merr\u001b[0m \u001b[0;32mis\u001b[0m \u001b[0;32mnot\u001b[0m \u001b[0;32mNone\u001b[0m\u001b[0;34m:\u001b[0m\u001b[0;34m\u001b[0m\u001b[0;34m\u001b[0m\u001b[0m\n\u001b[0;32m--> 727\u001b[0;31m         \u001b[0;32mraise\u001b[0m \u001b[0merr\u001b[0m\u001b[0;34m\u001b[0m\u001b[0;34m\u001b[0m\u001b[0m\n\u001b[0m\u001b[1;32m    728\u001b[0m     \u001b[0;32melse\u001b[0m\u001b[0;34m:\u001b[0m\u001b[0;34m\u001b[0m\u001b[0;34m\u001b[0m\u001b[0m\n",
      "\u001b[0;32m/Library/Frameworks/Python.framework/Versions/3.7/lib/python3.7/socket.py\u001b[0m in \u001b[0;36mcreate_connection\u001b[0;34m(address, timeout, source_address)\u001b[0m\n\u001b[1;32m    715\u001b[0m                 \u001b[0msock\u001b[0m\u001b[0;34m.\u001b[0m\u001b[0mbind\u001b[0m\u001b[0;34m(\u001b[0m\u001b[0msource_address\u001b[0m\u001b[0;34m)\u001b[0m\u001b[0;34m\u001b[0m\u001b[0;34m\u001b[0m\u001b[0m\n\u001b[0;32m--> 716\u001b[0;31m             \u001b[0msock\u001b[0m\u001b[0;34m.\u001b[0m\u001b[0mconnect\u001b[0m\u001b[0;34m(\u001b[0m\u001b[0msa\u001b[0m\u001b[0;34m)\u001b[0m\u001b[0;34m\u001b[0m\u001b[0;34m\u001b[0m\u001b[0m\n\u001b[0m\u001b[1;32m    717\u001b[0m             \u001b[0;31m# Break explicitly a reference cycle\u001b[0m\u001b[0;34m\u001b[0m\u001b[0;34m\u001b[0m\u001b[0;34m\u001b[0m\u001b[0m\n",
      "\u001b[0;31mTimeoutError\u001b[0m: [Errno 60] Operation timed out",
      "\nDuring handling of the above exception, another exception occurred:\n",
      "\u001b[0;31mURLError\u001b[0m                                  Traceback (most recent call last)",
      "\u001b[0;32m<ipython-input-4-bf651968494b>\u001b[0m in \u001b[0;36m<module>\u001b[0;34m\u001b[0m\n\u001b[1;32m      1\u001b[0m pop_data_ecdc = pd.read_csv(\n\u001b[0;32m----> 2\u001b[0;31m     \u001b[0;34m\"https://opendata.ecdc.europa.eu/covid19/casedistribution/csv\"\u001b[0m\u001b[0;34m\u001b[0m\u001b[0;34m\u001b[0m\u001b[0m\n\u001b[0m\u001b[1;32m      3\u001b[0m )\n\u001b[1;32m      4\u001b[0m \u001b[0;34m\u001b[0m\u001b[0m\n\u001b[1;32m      5\u001b[0m \u001b[0;34m\u001b[0m\u001b[0m\n",
      "\u001b[0;32m/Library/Frameworks/Python.framework/Versions/3.7/lib/python3.7/site-packages/pandas/io/parsers.py\u001b[0m in \u001b[0;36mparser_f\u001b[0;34m(filepath_or_buffer, sep, delimiter, header, names, index_col, usecols, squeeze, prefix, mangle_dupe_cols, dtype, engine, converters, true_values, false_values, skipinitialspace, skiprows, skipfooter, nrows, na_values, keep_default_na, na_filter, verbose, skip_blank_lines, parse_dates, infer_datetime_format, keep_date_col, date_parser, dayfirst, cache_dates, iterator, chunksize, compression, thousands, decimal, lineterminator, quotechar, quoting, doublequote, escapechar, comment, encoding, dialect, error_bad_lines, warn_bad_lines, delim_whitespace, low_memory, memory_map, float_precision)\u001b[0m\n\u001b[1;32m    683\u001b[0m         )\n\u001b[1;32m    684\u001b[0m \u001b[0;34m\u001b[0m\u001b[0m\n\u001b[0;32m--> 685\u001b[0;31m         \u001b[0;32mreturn\u001b[0m \u001b[0m_read\u001b[0m\u001b[0;34m(\u001b[0m\u001b[0mfilepath_or_buffer\u001b[0m\u001b[0;34m,\u001b[0m \u001b[0mkwds\u001b[0m\u001b[0;34m)\u001b[0m\u001b[0;34m\u001b[0m\u001b[0;34m\u001b[0m\u001b[0m\n\u001b[0m\u001b[1;32m    686\u001b[0m \u001b[0;34m\u001b[0m\u001b[0m\n\u001b[1;32m    687\u001b[0m     \u001b[0mparser_f\u001b[0m\u001b[0;34m.\u001b[0m\u001b[0m__name__\u001b[0m \u001b[0;34m=\u001b[0m \u001b[0mname\u001b[0m\u001b[0;34m\u001b[0m\u001b[0;34m\u001b[0m\u001b[0m\n",
      "\u001b[0;32m/Library/Frameworks/Python.framework/Versions/3.7/lib/python3.7/site-packages/pandas/io/parsers.py\u001b[0m in \u001b[0;36m_read\u001b[0;34m(filepath_or_buffer, kwds)\u001b[0m\n\u001b[1;32m    438\u001b[0m     \u001b[0;31m# See https://github.com/python/mypy/issues/1297\u001b[0m\u001b[0;34m\u001b[0m\u001b[0;34m\u001b[0m\u001b[0;34m\u001b[0m\u001b[0m\n\u001b[1;32m    439\u001b[0m     fp_or_buf, _, compression, should_close = get_filepath_or_buffer(\n\u001b[0;32m--> 440\u001b[0;31m         \u001b[0mfilepath_or_buffer\u001b[0m\u001b[0;34m,\u001b[0m \u001b[0mencoding\u001b[0m\u001b[0;34m,\u001b[0m \u001b[0mcompression\u001b[0m\u001b[0;34m\u001b[0m\u001b[0;34m\u001b[0m\u001b[0m\n\u001b[0m\u001b[1;32m    441\u001b[0m     )\n\u001b[1;32m    442\u001b[0m     \u001b[0mkwds\u001b[0m\u001b[0;34m[\u001b[0m\u001b[0;34m\"compression\"\u001b[0m\u001b[0;34m]\u001b[0m \u001b[0;34m=\u001b[0m \u001b[0mcompression\u001b[0m\u001b[0;34m\u001b[0m\u001b[0;34m\u001b[0m\u001b[0m\n",
      "\u001b[0;32m/Library/Frameworks/Python.framework/Versions/3.7/lib/python3.7/site-packages/pandas/io/common.py\u001b[0m in \u001b[0;36mget_filepath_or_buffer\u001b[0;34m(filepath_or_buffer, encoding, compression, mode)\u001b[0m\n\u001b[1;32m    194\u001b[0m \u001b[0;34m\u001b[0m\u001b[0m\n\u001b[1;32m    195\u001b[0m     \u001b[0;32mif\u001b[0m \u001b[0m_is_url\u001b[0m\u001b[0;34m(\u001b[0m\u001b[0mfilepath_or_buffer\u001b[0m\u001b[0;34m)\u001b[0m\u001b[0;34m:\u001b[0m\u001b[0;34m\u001b[0m\u001b[0;34m\u001b[0m\u001b[0m\n\u001b[0;32m--> 196\u001b[0;31m         \u001b[0mreq\u001b[0m \u001b[0;34m=\u001b[0m \u001b[0murlopen\u001b[0m\u001b[0;34m(\u001b[0m\u001b[0mfilepath_or_buffer\u001b[0m\u001b[0;34m)\u001b[0m\u001b[0;34m\u001b[0m\u001b[0;34m\u001b[0m\u001b[0m\n\u001b[0m\u001b[1;32m    197\u001b[0m         \u001b[0mcontent_encoding\u001b[0m \u001b[0;34m=\u001b[0m \u001b[0mreq\u001b[0m\u001b[0;34m.\u001b[0m\u001b[0mheaders\u001b[0m\u001b[0;34m.\u001b[0m\u001b[0mget\u001b[0m\u001b[0;34m(\u001b[0m\u001b[0;34m\"Content-Encoding\"\u001b[0m\u001b[0;34m,\u001b[0m \u001b[0;32mNone\u001b[0m\u001b[0;34m)\u001b[0m\u001b[0;34m\u001b[0m\u001b[0;34m\u001b[0m\u001b[0m\n\u001b[1;32m    198\u001b[0m         \u001b[0;32mif\u001b[0m \u001b[0mcontent_encoding\u001b[0m \u001b[0;34m==\u001b[0m \u001b[0;34m\"gzip\"\u001b[0m\u001b[0;34m:\u001b[0m\u001b[0;34m\u001b[0m\u001b[0;34m\u001b[0m\u001b[0m\n",
      "\u001b[0;32m/Library/Frameworks/Python.framework/Versions/3.7/lib/python3.7/urllib/request.py\u001b[0m in \u001b[0;36murlopen\u001b[0;34m(url, data, timeout, cafile, capath, cadefault, context)\u001b[0m\n\u001b[1;32m    220\u001b[0m     \u001b[0;32melse\u001b[0m\u001b[0;34m:\u001b[0m\u001b[0;34m\u001b[0m\u001b[0;34m\u001b[0m\u001b[0m\n\u001b[1;32m    221\u001b[0m         \u001b[0mopener\u001b[0m \u001b[0;34m=\u001b[0m \u001b[0m_opener\u001b[0m\u001b[0;34m\u001b[0m\u001b[0;34m\u001b[0m\u001b[0m\n\u001b[0;32m--> 222\u001b[0;31m     \u001b[0;32mreturn\u001b[0m \u001b[0mopener\u001b[0m\u001b[0;34m.\u001b[0m\u001b[0mopen\u001b[0m\u001b[0;34m(\u001b[0m\u001b[0murl\u001b[0m\u001b[0;34m,\u001b[0m \u001b[0mdata\u001b[0m\u001b[0;34m,\u001b[0m \u001b[0mtimeout\u001b[0m\u001b[0;34m)\u001b[0m\u001b[0;34m\u001b[0m\u001b[0;34m\u001b[0m\u001b[0m\n\u001b[0m\u001b[1;32m    223\u001b[0m \u001b[0;34m\u001b[0m\u001b[0m\n\u001b[1;32m    224\u001b[0m \u001b[0;32mdef\u001b[0m \u001b[0minstall_opener\u001b[0m\u001b[0;34m(\u001b[0m\u001b[0mopener\u001b[0m\u001b[0;34m)\u001b[0m\u001b[0;34m:\u001b[0m\u001b[0;34m\u001b[0m\u001b[0;34m\u001b[0m\u001b[0m\n",
      "\u001b[0;32m/Library/Frameworks/Python.framework/Versions/3.7/lib/python3.7/urllib/request.py\u001b[0m in \u001b[0;36mopen\u001b[0;34m(self, fullurl, data, timeout)\u001b[0m\n\u001b[1;32m    523\u001b[0m             \u001b[0mreq\u001b[0m \u001b[0;34m=\u001b[0m \u001b[0mmeth\u001b[0m\u001b[0;34m(\u001b[0m\u001b[0mreq\u001b[0m\u001b[0;34m)\u001b[0m\u001b[0;34m\u001b[0m\u001b[0;34m\u001b[0m\u001b[0m\n\u001b[1;32m    524\u001b[0m \u001b[0;34m\u001b[0m\u001b[0m\n\u001b[0;32m--> 525\u001b[0;31m         \u001b[0mresponse\u001b[0m \u001b[0;34m=\u001b[0m \u001b[0mself\u001b[0m\u001b[0;34m.\u001b[0m\u001b[0m_open\u001b[0m\u001b[0;34m(\u001b[0m\u001b[0mreq\u001b[0m\u001b[0;34m,\u001b[0m \u001b[0mdata\u001b[0m\u001b[0;34m)\u001b[0m\u001b[0;34m\u001b[0m\u001b[0;34m\u001b[0m\u001b[0m\n\u001b[0m\u001b[1;32m    526\u001b[0m \u001b[0;34m\u001b[0m\u001b[0m\n\u001b[1;32m    527\u001b[0m         \u001b[0;31m# post-process response\u001b[0m\u001b[0;34m\u001b[0m\u001b[0;34m\u001b[0m\u001b[0;34m\u001b[0m\u001b[0m\n",
      "\u001b[0;32m/Library/Frameworks/Python.framework/Versions/3.7/lib/python3.7/urllib/request.py\u001b[0m in \u001b[0;36m_open\u001b[0;34m(self, req, data)\u001b[0m\n\u001b[1;32m    541\u001b[0m         \u001b[0mprotocol\u001b[0m \u001b[0;34m=\u001b[0m \u001b[0mreq\u001b[0m\u001b[0;34m.\u001b[0m\u001b[0mtype\u001b[0m\u001b[0;34m\u001b[0m\u001b[0;34m\u001b[0m\u001b[0m\n\u001b[1;32m    542\u001b[0m         result = self._call_chain(self.handle_open, protocol, protocol +\n\u001b[0;32m--> 543\u001b[0;31m                                   '_open', req)\n\u001b[0m\u001b[1;32m    544\u001b[0m         \u001b[0;32mif\u001b[0m \u001b[0mresult\u001b[0m\u001b[0;34m:\u001b[0m\u001b[0;34m\u001b[0m\u001b[0;34m\u001b[0m\u001b[0m\n\u001b[1;32m    545\u001b[0m             \u001b[0;32mreturn\u001b[0m \u001b[0mresult\u001b[0m\u001b[0;34m\u001b[0m\u001b[0;34m\u001b[0m\u001b[0m\n",
      "\u001b[0;32m/Library/Frameworks/Python.framework/Versions/3.7/lib/python3.7/urllib/request.py\u001b[0m in \u001b[0;36m_call_chain\u001b[0;34m(self, chain, kind, meth_name, *args)\u001b[0m\n\u001b[1;32m    501\u001b[0m         \u001b[0;32mfor\u001b[0m \u001b[0mhandler\u001b[0m \u001b[0;32min\u001b[0m \u001b[0mhandlers\u001b[0m\u001b[0;34m:\u001b[0m\u001b[0;34m\u001b[0m\u001b[0;34m\u001b[0m\u001b[0m\n\u001b[1;32m    502\u001b[0m             \u001b[0mfunc\u001b[0m \u001b[0;34m=\u001b[0m \u001b[0mgetattr\u001b[0m\u001b[0;34m(\u001b[0m\u001b[0mhandler\u001b[0m\u001b[0;34m,\u001b[0m \u001b[0mmeth_name\u001b[0m\u001b[0;34m)\u001b[0m\u001b[0;34m\u001b[0m\u001b[0;34m\u001b[0m\u001b[0m\n\u001b[0;32m--> 503\u001b[0;31m             \u001b[0mresult\u001b[0m \u001b[0;34m=\u001b[0m \u001b[0mfunc\u001b[0m\u001b[0;34m(\u001b[0m\u001b[0;34m*\u001b[0m\u001b[0margs\u001b[0m\u001b[0;34m)\u001b[0m\u001b[0;34m\u001b[0m\u001b[0;34m\u001b[0m\u001b[0m\n\u001b[0m\u001b[1;32m    504\u001b[0m             \u001b[0;32mif\u001b[0m \u001b[0mresult\u001b[0m \u001b[0;32mis\u001b[0m \u001b[0;32mnot\u001b[0m \u001b[0;32mNone\u001b[0m\u001b[0;34m:\u001b[0m\u001b[0;34m\u001b[0m\u001b[0;34m\u001b[0m\u001b[0m\n\u001b[1;32m    505\u001b[0m                 \u001b[0;32mreturn\u001b[0m \u001b[0mresult\u001b[0m\u001b[0;34m\u001b[0m\u001b[0;34m\u001b[0m\u001b[0m\n",
      "\u001b[0;32m/Library/Frameworks/Python.framework/Versions/3.7/lib/python3.7/urllib/request.py\u001b[0m in \u001b[0;36mhttps_open\u001b[0;34m(self, req)\u001b[0m\n\u001b[1;32m   1358\u001b[0m         \u001b[0;32mdef\u001b[0m \u001b[0mhttps_open\u001b[0m\u001b[0;34m(\u001b[0m\u001b[0mself\u001b[0m\u001b[0;34m,\u001b[0m \u001b[0mreq\u001b[0m\u001b[0;34m)\u001b[0m\u001b[0;34m:\u001b[0m\u001b[0;34m\u001b[0m\u001b[0;34m\u001b[0m\u001b[0m\n\u001b[1;32m   1359\u001b[0m             return self.do_open(http.client.HTTPSConnection, req,\n\u001b[0;32m-> 1360\u001b[0;31m                 context=self._context, check_hostname=self._check_hostname)\n\u001b[0m\u001b[1;32m   1361\u001b[0m \u001b[0;34m\u001b[0m\u001b[0m\n\u001b[1;32m   1362\u001b[0m         \u001b[0mhttps_request\u001b[0m \u001b[0;34m=\u001b[0m \u001b[0mAbstractHTTPHandler\u001b[0m\u001b[0;34m.\u001b[0m\u001b[0mdo_request_\u001b[0m\u001b[0;34m\u001b[0m\u001b[0;34m\u001b[0m\u001b[0m\n",
      "\u001b[0;32m/Library/Frameworks/Python.framework/Versions/3.7/lib/python3.7/urllib/request.py\u001b[0m in \u001b[0;36mdo_open\u001b[0;34m(self, http_class, req, **http_conn_args)\u001b[0m\n\u001b[1;32m   1317\u001b[0m                           encode_chunked=req.has_header('Transfer-encoding'))\n\u001b[1;32m   1318\u001b[0m             \u001b[0;32mexcept\u001b[0m \u001b[0mOSError\u001b[0m \u001b[0;32mas\u001b[0m \u001b[0merr\u001b[0m\u001b[0;34m:\u001b[0m \u001b[0;31m# timeout error\u001b[0m\u001b[0;34m\u001b[0m\u001b[0;34m\u001b[0m\u001b[0m\n\u001b[0;32m-> 1319\u001b[0;31m                 \u001b[0;32mraise\u001b[0m \u001b[0mURLError\u001b[0m\u001b[0;34m(\u001b[0m\u001b[0merr\u001b[0m\u001b[0;34m)\u001b[0m\u001b[0;34m\u001b[0m\u001b[0;34m\u001b[0m\u001b[0m\n\u001b[0m\u001b[1;32m   1320\u001b[0m             \u001b[0mr\u001b[0m \u001b[0;34m=\u001b[0m \u001b[0mh\u001b[0m\u001b[0;34m.\u001b[0m\u001b[0mgetresponse\u001b[0m\u001b[0;34m(\u001b[0m\u001b[0;34m)\u001b[0m\u001b[0;34m\u001b[0m\u001b[0;34m\u001b[0m\u001b[0m\n\u001b[1;32m   1321\u001b[0m         \u001b[0;32mexcept\u001b[0m\u001b[0;34m:\u001b[0m\u001b[0;34m\u001b[0m\u001b[0;34m\u001b[0m\u001b[0m\n",
      "\u001b[0;31mURLError\u001b[0m: <urlopen error [Errno 60] Operation timed out>"
     ]
    }
   ],
   "source": [
    "pop_data_ecdc = pd.read_csv(\n",
    "    \"https://opendata.ecdc.europa.eu/covid19/casedistribution/csv\"\n",
    ")\n",
    "\n",
    "\n",
    "def get_country_pop(country_geoID):\n",
    "    pop = pop_data_ecdc[pop_data_ecdc.geoId == country_geoID].popData2018\n",
    "    pop = pop.to_numpy()[0]\n",
    "    return pop"
   ]
  },
  {
   "cell_type": "code",
   "execution_count": null,
   "metadata": {
    "colab": {
     "base_uri": "https://localhost:8080/",
     "height": 204
    },
    "colab_type": "code",
    "id": "vEDULgexSUeN",
    "outputId": "b4a2d7f8-8e08-4d91-86e0-f72b65311c2d"
   },
   "outputs": [],
   "source": [
    "pop_data_ecdc.head()"
   ]
  },
  {
   "cell_type": "markdown",
   "metadata": {
    "colab_type": "text",
    "id": "854ApmawSonU"
   },
   "source": [
    "## Exploratory Data Analysis"
   ]
  },
  {
   "cell_type": "markdown",
   "metadata": {},
   "source": [
    "The URL's pertaining to the data of confirmed, recovered and deaths across countries due to COVID19 is stored and then the data is read from the respective URL's to store it in three different CSV file's."
   ]
  },
  {
   "cell_type": "code",
   "execution_count": null,
   "metadata": {
    "colab": {},
    "colab_type": "code",
    "id": "rfzRw2M2TmU2"
   },
   "outputs": [],
   "source": [
    "# Storing the url's\n",
    "confirmed_url = \"https://raw.githubusercontent.com/CSSEGISandData/COVID-19/master/csse_covid_19_data/csse_covid_19_time_series/time_series_covid19_confirmed_global.csv\"\n",
    "deaths_url = \"https://raw.githubusercontent.com/CSSEGISandData/COVID-19/master/csse_covid_19_data/csse_covid_19_time_series/time_series_covid19_deaths_global.csv\"\n",
    "recovered_url = \"https://raw.githubusercontent.com/CSSEGISandData/COVID-19/master/csse_covid_19_data/csse_covid_19_time_series/time_series_covid19_recovered_global.csv\"\n",
    "url = {\"confirmed\": confirmed_url,\n",
    "       \"deaths\": deaths_url,\n",
    "       \"recovered\": recovered_url}"
   ]
  },
  {
   "cell_type": "code",
   "execution_count": null,
   "metadata": {
    "colab": {},
    "colab_type": "code",
    "id": "D9H_gkJYSnuF"
   },
   "outputs": [],
   "source": [
    "idata = pd.read_csv(confirmed_url)\n",
    "ddata = pd.read_csv(deaths_url)\n",
    "rdata = pd.read_csv(recovered_url)"
   ]
  },
  {
   "cell_type": "markdown",
   "metadata": {},
   "source": [
    "The tidy_data function takes in a csv data and type of compartment which is either confirmed, recovered, deaths due to COVID-19 and outputs a tidy dataframe, which has country, date, cumulative cases(either confirmed, recovered, deaths depending on the type of data provided), new cases, days since the first confirmed case was observed. This tidy dataframe is used for exploratory data analysis."
   ]
  },
  {
   "cell_type": "code",
   "execution_count": null,
   "metadata": {
    "colab": {},
    "colab_type": "code",
    "id": "OBPBZufzShGC"
   },
   "outputs": [],
   "source": [
    "def tidy_data(data, compartment):\n",
    "    \"\"\"\n",
    "  Input: data, compartment:(confirmed/recovered/deaths)\n",
    "  Output: Tidy data with cols as country, date, cases, new_cases, days_after_1\n",
    "  \"cases\" refers to accumulated cases either(confirmed/recovered/death)\n",
    "  \"new_cases\" refers to new case either(confirmed/recovered/death) per each day\n",
    "   depending on type\n",
    "  \"days_after_1\" refers to days passed since the confirmation/recovery/deaths\n",
    "  of first positive covid-19 cases respectively for\n",
    "  confirmed/recovered/deaths data\n",
    "  \"\"\"\n",
    "    # Merging all the dates using pd.melt()\n",
    "    df_data = pd.melt(data, id_vars=[\"Province/State\",\n",
    "                                     \"Country/Region\",\n",
    "                                     \"Lat\",\n",
    "                                     \"Long\"],\n",
    "                      value_name=\"Cases\")\n",
    "    # renaming the columns\n",
    "    df_data.columns = ['state', 'country', 'Lat', 'Long', 'date', compartment]\n",
    "    # converting the date column from string to date format\n",
    "    df_data['date'] = pd.to_datetime(df_data.date)\n",
    "    # sort by date\n",
    "    df_data.sort_values(by=['country', 'date'], inplace=True)\n",
    "    df_data.drop(['Lat', 'Long'], axis=1, inplace=True)\n",
    "    # Merging province/state of countries to get accumulated data for country\n",
    "    df_states_inc = (df_data.loc[~df_data.state.isna()]\n",
    "                     .groupby(['country', 'date']).sum()\n",
    "                     .rename(index=lambda x: x+' (all_states_inc)', level=0)\n",
    "                     .reset_index(level=['country', 'date']))\n",
    "    # appending the accumulated states data in the original dataframe\n",
    "    df_data.append(df_states_inc, ignore_index=True)\n",
    "    # droping the state column as it is not required for further modeling\n",
    "    df_data = df_data.loc[df_data.state.isnull()]\n",
    "    df_data.drop(['state'], axis=1, inplace=True)\n",
    "    df_data.reset_index(drop=True, inplace=True)\n",
    "    # creating a new cases column to track new cases per day for each country\n",
    "    df_data['new_'+str(compartment)] = (df_data\n",
    "                                        .groupby('country')[compartment]\n",
    "                                        .diff())\n",
    "    # creating a new column to track the days passed since the\n",
    "    # confirmation of the first case in each country\n",
    "    df_data['days_after_1'] = (df_data[compartment] > 0).astype(int)\n",
    "    df_data['days_after_1'] = (df_data\n",
    "                               .groupby('country')['days_after_1']\n",
    "                               .cumsum())\n",
    "    # filtering the data to include only the data since the first\n",
    "    # case is confirmed for each country\n",
    "    df_data = df_data[df_data[compartment] != 0]\n",
    "    return df_data"
   ]
  },
  {
   "cell_type": "markdown",
   "metadata": {},
   "source": [
    "The tidy dataframe related to confirmed cases is obtained and the data is subset for the countries such as Italy, US, Spain, Korea, South, Japan, India."
   ]
  },
  {
   "cell_type": "code",
   "execution_count": null,
   "metadata": {
    "cellView": "code",
    "colab": {},
    "colab_type": "code",
    "id": "utZkC95QVfNk"
   },
   "outputs": [],
   "source": [
    "tidy_idata = tidy_data(idata, 'confirmed')\n",
    "df_small = tidy_idata[tidy_idata.country.isin(\n",
    "    ['Italy', 'US',\n",
    "     \"Spain\", \"Korea, South\",\n",
    "     \"Japan\", \"India\"])]"
   ]
  },
  {
   "cell_type": "code",
   "execution_count": null,
   "metadata": {
    "colab": {},
    "colab_type": "code",
    "id": "MXmKHPVoWR9d"
   },
   "outputs": [],
   "source": [
    "fig = plt.figure(figsize=[8, 8])\n",
    "ax = sns.lineplot(x=df_small.days_after_1, y=onp.log(df_small.confirmed),\n",
    "                  hue=df_small['country'])\n",
    "ax.set(xlabel='Days passed since first case in each country',\n",
    "       ylabel='Log of aggregated confirmed cases')\n",
    "ax.set_title('COVID-19 confirmed cases for each country')\n",
    "plt.show()"
   ]
  },
  {
   "cell_type": "markdown",
   "metadata": {
    "colab_type": "text",
    "id": "WJG9hNvZyyHJ"
   },
   "source": [
    "This graph shows the variation of log of  confirmed cases for various countries like India, Italy, US etc. We can see here that the confimed cases have seen an exponential increase with time. Almost all countries seem to show a similiar curve here. For all of them the initial 1 or 2 weeks seem to show a horizontal line which means that the cases here are not much(this could be attributed to less testing, less reporting or the incubation period where the person has caught the virus but is not sick yet) After these inital 2 to 3 weeks the rise seems to be alarming. Lets now see how the graph changes if we plot conformed cases directly instead of log of confirmed cases. "
   ]
  },
  {
   "cell_type": "code",
   "execution_count": null,
   "metadata": {
    "colab": {},
    "colab_type": "code",
    "id": "EQLFeFDUWUHG"
   },
   "outputs": [],
   "source": [
    "fig = plt.figure(figsize=[8, 8])\n",
    "ax = sns.lineplot(x=df_small.days_after_1, y=df_small.new_confirmed,\n",
    "                  hue=df_small['country'])\n",
    "ax.set(xlabel='Days passed since first case in each country',\n",
    "       ylabel='New Confirmed cases')\n",
    "ax.set()\n",
    "plt.show()"
   ]
  },
  {
   "cell_type": "markdown",
   "metadata": {
    "colab_type": "text",
    "id": "vEzt1Hg20Zxp"
   },
   "source": [
    "Here we can see that US surpasses every other country in terms of conformed cases. The graph for US was at nearly 0 for almost uptil 40 days signifying that the virus came in quite late to the US but once the cases started appearing, US seem to have done very pporly in terms of containing it for almost 4 weeks. This could be attributed to not advising stay at home and not closing non-essential businesses early on. After  "
   ]
  },
  {
   "cell_type": "code",
   "execution_count": null,
   "metadata": {
    "colab": {},
    "colab_type": "code",
    "id": "bQV_iJSwWdNZ"
   },
   "outputs": [],
   "source": [
    "tidy_ddata = tidy_data(ddata, 'deaths')\n",
    "df_small_death = tidy_ddata[tidy_ddata.country.isin(\n",
    "    ['Italy', 'US',\n",
    "     \"Spain\", \"Korea,South\",\n",
    "     \"Japan\", \"India\"])]"
   ]
  },
  {
   "cell_type": "code",
   "execution_count": null,
   "metadata": {
    "colab": {},
    "colab_type": "code",
    "id": "WpHFSd6aWjBV"
   },
   "outputs": [],
   "source": [
    "fig = plt.figure(figsize=[8, 8])\n",
    "ax = sns.lineplot(x=df_small_death.days_after_1.values,\n",
    "                  y=onp.log(df_small_death.deaths),\n",
    "                  hue=df_small_death['country'])\n",
    "ax.set(xlabel='Days passed since first death in each country',\n",
    "       ylabel='Log of deaths reported')\n",
    "plt.title(\"Deaths reported for each country\")\n",
    "plt.show()"
   ]
  },
  {
   "cell_type": "markdown",
   "metadata": {},
   "source": [
    "We observe that the number of deaths reported for Italy, Spain and US since the day of the first confirmed death in each of the countries, is relatively higher compared the Asian countries namely Japan, India and South Korea. US has more number of deaths reported compared to Italy and Spain."
   ]
  },
  {
   "cell_type": "markdown",
   "metadata": {},
   "source": [
    "The tidy dataframe related to recoveries from COVID-19 is obtained and the data is subset for the countries such as Italy, US, Spain, Korea, South, Japan, India."
   ]
  },
  {
   "cell_type": "code",
   "execution_count": null,
   "metadata": {
    "cellView": "both",
    "colab": {},
    "colab_type": "code",
    "id": "Dd2hDOJRW44Y"
   },
   "outputs": [],
   "source": [
    "tidy_rdata = tidy_data(rdata, 'recovered')\n",
    "df_small_recovered = tidy_rdata[tidy_rdata.country\n",
    "                                .isin(['Italy', 'US',\n",
    "                                       \"Spain\", \"Korea, South\",\n",
    "                                       \"Japan\", \"India\"])]"
   ]
  },
  {
   "cell_type": "code",
   "execution_count": null,
   "metadata": {
    "colab": {},
    "colab_type": "code",
    "id": "JWnydYjaW9gR"
   },
   "outputs": [],
   "source": [
    "fig = plt.figure(figsize=[8, 8])\n",
    "ax = sns.lineplot(x=df_small_recovered.days_after_1.values,\n",
    "                  y=onp.log(df_small_recovered.recovered.values),\n",
    "                  hue=df_small_recovered['country'])\n",
    "ax.set(xlabel='Days passed since first recovery in each country',\n",
    "       ylabel='Log of recovered')\n",
    "plt.title(\"Recoveries of each country\")\n",
    "plt.show()"
   ]
  },
  {
   "cell_type": "markdown",
   "metadata": {},
   "source": [
    "We observe that the number of recoveries from COVID-19 for Italy, Spain and US and it is because the number of confirmed cases of COVID-19 is relatively higher in those countries compared to the Asian countries."
   ]
  },
  {
   "cell_type": "markdown",
   "metadata": {
    "colab_type": "text",
    "id": "saHN_ONXRflU"
   },
   "source": [
    "## Data for the model"
   ]
  },
  {
   "cell_type": "code",
   "execution_count": null,
   "metadata": {
    "colab": {},
    "colab_type": "code",
    "id": "BEuPz0pIkyxA"
   },
   "outputs": [],
   "source": [
    "# Create a class to read and prepare the data in a numpy\n",
    "# array with columns S, I, and R\n",
    "\n",
    "\n",
    "class constructData():\n",
    "    \"\"\"\n",
    "    Reads in data URLs and constructs the country's info in a numpy array\n",
    "    \"\"\"\n",
    "    def __init__(self, url):\n",
    "        self.url = url\n",
    "        self.idata = pd.read_csv(url[\"confirmed\"])\n",
    "        self.ddata = pd.read_csv(url[\"deaths\"])\n",
    "        self.rdata = pd.read_csv(url[\"recovered\"])\n",
    "\n",
    "    def get_data(self, country, tot_pop):\n",
    "        \"\"\"\n",
    "        Extract country's data from global data\n",
    "        Aggregate recovered (alive) and deaths into R\n",
    "        \"\"\"\n",
    "        Infected = self.construct_data(self.idata, country)\n",
    "        R1 = self.construct_data(self.rdata, country)\n",
    "        R2 = self.construct_data(self.ddata, country)\n",
    "        Resistant = R1 + R2\n",
    "        Infected = Infected - Resistant\n",
    "        Susceptible = tot_pop - Infected - Resistant\n",
    "\n",
    "        sir = onp.hstack([Susceptible, Infected, Resistant])\n",
    "        return sir\n",
    "\n",
    "    def construct_data(self, data, country):\n",
    "        \"\"\"\n",
    "        Filter the country's data and put them in a numpy array\n",
    "        \"\"\"\n",
    "        arr = data[data[\"Country/Region\"] == country].iloc[0, :][4:]\n",
    "        arr = arr.to_numpy()\n",
    "        arr = arr.astype(\"float32\")\n",
    "        return arr.reshape(-1, 1)\n"
   ]
  },
  {
   "cell_type": "markdown",
   "metadata": {
    "colab_type": "text",
    "id": "7FqCSkOAHEt3"
   },
   "source": [
    "### Country: The United States"
   ]
  },
  {
   "cell_type": "code",
   "execution_count": null,
   "metadata": {
    "colab": {},
    "colab_type": "code",
    "id": "2EI9aYuik1zc"
   },
   "outputs": [],
   "source": [
    "US_tot_pop = get_country_pop(\"US\")\n",
    "data = constructData(url)\n",
    "us = data.get_data(\"US\", US_tot_pop)"
   ]
  },
  {
   "cell_type": "code",
   "execution_count": null,
   "metadata": {
    "colab": {
     "base_uri": "https://localhost:8080/",
     "height": 361
    },
    "colab_type": "code",
    "id": "IAaEMvKTlFzy",
    "outputId": "5af0c17c-d866-4cd7-a792-a9375553bd5f"
   },
   "outputs": [],
   "source": [
    "plt.figure(figsize=(15, 5))\n",
    "\n",
    "plt.subplot(1, 3, 1)\n",
    "plt.plot(us[:, 0])\n",
    "plt.xlabel(\"Days from 01/22\")\n",
    "plt.title(\"Susceptible\")\n",
    "\n",
    "plt.subplot(1, 3, 2)\n",
    "plt.plot(us[:, 1])\n",
    "plt.xlabel(\"Days from 01/22\")\n",
    "plt.title(\"Infected\")\n",
    "\n",
    "plt.subplot(1, 3, 3)\n",
    "plt.plot(us[:, 2])\n",
    "plt.xlabel(\"Days from 01/22\")\n",
    "plt.title(\"Resistant\")\n",
    "\n",
    "plt.show()"
   ]
  },
  {
   "cell_type": "markdown",
   "metadata": {
    "colab_type": "text",
    "id": "ZXfahPP1c3_P"
   },
   "source": [
    "### ODE\n",
    "Differential equations are used in SIR to show the change in each category per unit time. \\\\\n",
    "Total population here is given by N. \\\\\n",
    "N = S + I + R \\\\\n",
    "\n",
    "The ODEs given in the image below were used in our SIR model. \\\\\n",
    "beta  : Transmission rate \\\\\n",
    "gamma : Recovery rate \\\\\n",
    "delta : Rate at which beta changes \n"
   ]
  },
  {
   "cell_type": "code",
   "execution_count": null,
   "metadata": {
    "colab": {
     "base_uri": "https://localhost:8080/",
     "height": 265
    },
    "colab_type": "code",
    "id": "k1cs4Z_YW_G2",
    "outputId": "788c80ce-53f9-45ff-8cc6-7ada5e0b1363"
   },
   "outputs": [],
   "source": [
    "img_sir = mpimg.imread(\"ODE.jpeg\")\n",
    "fig = plt.figure(figsize=(5, 4))\n",
    "plt.imshow(img_sir)\n",
    "plt.xticks([])\n",
    "plt.yticks([])"
   ]
  },
  {
   "cell_type": "markdown",
   "metadata": {
    "colab_type": "text",
    "id": "pORInSa5OnMC"
   },
   "source": [
    "# Model Specification"
   ]
  },
  {
   "cell_type": "code",
   "execution_count": null,
   "metadata": {
    "colab": {},
    "colab_type": "code",
    "id": "XoVsewl_lQJN"
   },
   "outputs": [],
   "source": [
    "def dz_dt(z, t, gamma, delta): \n",
    "    \"\"\"\n",
    "    Computes the change in one timestep according to ODEs\n",
    "    z: components of the system that can vary through time (s, i, r, beta)\n",
    "    t: timesteps\n",
    "    gamma: the recovery rate (includes rates for both recovered (alive) and deaths)\n",
    "    delta: the rate at which beta (the transmission rate) changes\n",
    "    \"\"\"\n",
    "    s, i, r, beta = z\n",
    "    N = s + i + r\n",
    "\n",
    "    # ODEs\n",
    "    ds_dt = -beta * (i/N) * s\n",
    "    di_dt = beta * (i/N) * s - gamma * i \n",
    "    dr_dt = gamma * i\n",
    "    dbeta_dt = -beta * delta\n",
    "\n",
    "    return np.stack([ds_dt, di_dt, dr_dt, dbeta_dt])\n",
    "    \n",
    "    "
   ]
  },
  {
   "cell_type": "code",
   "execution_count": null,
   "metadata": {
    "colab": {},
    "colab_type": "code",
    "id": "O-Clg6gwlea2"
   },
   "outputs": [],
   "source": [
    "# Function that integrates ODEs over time \n",
    "# takes as input the function where ODEs are defined\n",
    "sir_int = build_odeint(dz_dt, rtol=1e-5, atol=1e-3, mxstep=500)"
   ]
  },
  {
   "cell_type": "code",
   "execution_count": null,
   "metadata": {
    "colab": {},
    "colab_type": "code",
    "id": "JucU2c3Ulf4G"
   },
   "outputs": [],
   "source": [
    "def sir_model(M, y=None):\n",
    "    \"\"\"\n",
    "    Main model: which defines priors for the parameters and\n",
    "    initial populations, integrates the populations over time\n",
    "    and samples\n",
    "    M: number of datapoints\n",
    "    y: datapoints in log scale (S-I-R populations in numpy array)\n",
    "    \"\"\"\n",
    "    # define initial populations\n",
    "    s_init = 3.2716733e+08\n",
    "    i_init = 100\n",
    "    r_init = 10\n",
    "\n",
    "    # measurement times\n",
    "    ts = np.arange(float(M))\n",
    "\n",
    "    # parameters beta, gamma of dz_dt\n",
    "    beta = numpyro.sample(\"beta\", dist.TruncatedNormal(low=0.0,\n",
    "                                                       loc=0.1,\n",
    "                                                       scale=0.1))\n",
    "    gamma = numpyro.sample(\"gamma\", dist.TruncatedNormal(low=0.0,\n",
    "                                                         loc=0.1,\n",
    "                                                         scale=0.05))\n",
    "    delta = numpyro.sample(\"delta\", dist.TruncatedNormal(low=0.0,\n",
    "                                                         loc=0.05,\n",
    "                                                         scale=0.01))\n",
    "\n",
    "    z_init = np.array([s_init, i_init, r_init, beta])\n",
    "\n",
    "    # integrate dz/dt, z will have shape M x 4\n",
    "    z = sir_int(z_init, ts, gamma, delta)\n",
    "\n",
    "    # measurement errors\n",
    "    sigma = numpyro.sample(\"sigma\", dist.TruncatedCauchy(low=1e-10,\n",
    "                                                         loc=np.array([0.5,\n",
    "                                                                       0.5,\n",
    "                                                                       0.5]),\n",
    "                                                         scale=0.5))\n",
    "\n",
    "    # measured populations (in log scale)\n",
    "    numpyro.sample(\"y\", dist.Normal(z[:, :-1], sigma), obs=y)\n",
    "\n",
    "    return z, z_init"
   ]
  },
  {
   "cell_type": "markdown",
   "metadata": {
    "colab_type": "text",
    "id": "zyEpZUrZIR0S"
   },
   "source": [
    "## Case: United States"
   ]
  },
  {
   "cell_type": "markdown",
   "metadata": {},
   "source": [
    "* Now that we have the model ready, we initialize the populations and get the data ready. \n",
    "* We purposefully sliced the data for the US to consider from the date when the number of active infections reached 100. This is from date 03/03/2020. \n",
    "* The reason for such a slicing is that the exponential trend, which is our model's core assumption, could not be observed (due to measurement errors: not enough \"accurate\" reporting is done in the initial days of the infection spread). "
   ]
  },
  {
   "cell_type": "code",
   "execution_count": null,
   "metadata": {
    "colab": {},
    "colab_type": "code",
    "id": "MKSEEN5MIUxe"
   },
   "outputs": [],
   "source": [
    "# Define initial populations for US\n",
    "s_init = 3.2716733e+08\n",
    "i_init = 100\n",
    "r_init = 10\n",
    "US_init_pop = (s_init, i_init, r_init)\n",
    "_us = us[40:]"
   ]
  },
  {
   "cell_type": "markdown",
   "metadata": {
    "colab_type": "text",
    "id": "NeB_9LJsIaPm"
   },
   "source": [
    "### Inference on the parameters"
   ]
  },
  {
   "cell_type": "markdown",
   "metadata": {},
   "source": [
    "* We now infer on the parameters of the model given evidence. This is done as follows. \n",
    "    * The sir_model initializes the rates parameters and passes them onto build_odeint, which integrates the ODEs for each timestep. \n",
    "    * With mean as the output of above function, our predictions are sampled using a Gaussian distribution with sigma as std. \n",
    "    * The predictions are compared against the observations and the parameters are adjusted according to MCMC algorithm's optimization. "
   ]
  },
  {
   "cell_type": "code",
   "execution_count": null,
   "metadata": {
    "colab": {
     "base_uri": "https://localhost:8080/",
     "height": 204
    },
    "colab_type": "code",
    "id": "G0rdxEreliOG",
    "outputId": "2f00c2ac-23bc-4c5e-d069-3df454def725"
   },
   "outputs": [],
   "source": [
    "# Arguments\n",
    "num_warmup = 300\n",
    "num_samples = 500\n",
    "num_chains = 1\n",
    "\n",
    "nuts_kernel = NUTS(sir_model)\n",
    "mcmc = MCMC(nuts_kernel, num_warmup, num_samples,\n",
    "            num_chains=num_chains)\n",
    "mcmc.run(PRNGKey(2), M=_us.shape[0], y=_us)\n",
    "mcmc.print_summary()"
   ]
  },
  {
   "cell_type": "markdown",
   "metadata": {
    "colab_type": "text",
    "id": "HBr1pdLGIjVJ"
   },
   "source": [
    "### Plot results of Inference and prediction"
   ]
  },
  {
   "cell_type": "markdown",
   "metadata": {},
   "source": [
    "* Following the inference on the parameters, we plot the predictions along with the evidence (data) to visualize how well the model has learned."
   ]
  },
  {
   "cell_type": "code",
   "execution_count": null,
   "metadata": {
    "colab": {},
    "colab_type": "code",
    "id": "8Q9S7Hjvi0xB"
   },
   "outputs": [],
   "source": [
    "samples = mcmc.get_samples()"
   ]
  },
  {
   "cell_type": "code",
   "execution_count": null,
   "metadata": {
    "colab": {},
    "colab_type": "code",
    "id": "Fcswky-_idAy"
   },
   "outputs": [],
   "source": [
    "def sir_predict(timesteps, sample, y):\n",
    "    \"\"\"\n",
    "    Computes the trajectories (s-i-r populations for all timesteps)\n",
    "    of each initial parameter set (sample).\n",
    "    timesteps: array of timesteps for which ODEs should be integrated\n",
    "    sample: a MCMC inference sample consisting of one value for each parameter\n",
    "    y: the evidence (data)\n",
    "    \"\"\"\n",
    "    # compute trajectory using build_odeint function\n",
    "    traj = handlers.substitute(sir_model, sample)(len(y), y)\n",
    "    z, z_init = traj\n",
    "\n",
    "    # sigma: the std for our prediction is broadcast with this formula\n",
    "    # sigma(t) = base_sigma * sqrt(timestep)\n",
    "    sigma = sample[\"sigma\"]\n",
    "    timesteps = (timesteps+1).reshape(-1, 1)\n",
    "    sigma = sigma.reshape(1, -1)\n",
    "    _sigma = np.sqrt(timesteps).dot(sigma)\n",
    "    pred = numpyro.sample(\"pred\", dist.Normal(loc=z[:, :-1], scale=_sigma))\n",
    "    beta_traj = numpyro.sample(\"beta_traj\", dist.Delta(z[:, -1]))\n",
    "    return pred, z[:, -1]\n",
    "\n",
    "\n",
    "def predict(timesteps, rng_key, sample, y):\n",
    "    \"\"\"\n",
    "    Computes prediction and beta trajectories using model trace\n",
    "    \"\"\"\n",
    "    sir_predict_model = handlers.seed(sir_predict, rng_seed=rng_key)\n",
    "    predict_trace = handlers.trace(sir_predict_model).get_trace(timesteps,\n",
    "                                                                sample,\n",
    "                                                                y)\n",
    "    res = predict_trace[\"pred\"][\"value\"]\n",
    "    beta_traj = predict_trace[\"beta_traj\"][\"value\"]\n",
    "    return res, beta_traj"
   ]
  },
  {
   "cell_type": "code",
   "execution_count": null,
   "metadata": {
    "colab": {
     "base_uri": "https://localhost:8080/",
     "height": 378
    },
    "colab_type": "code",
    "id": "fJ3ANDXtiybh",
    "outputId": "9de87320-2e60-4270-fa5e-54972374658b"
   },
   "outputs": [],
   "source": [
    "# Vectorize trajectory computations using vmap\n",
    "rng_keys = random.split(random.PRNGKey(3), samples[\"beta\"].shape[0])\n",
    "result_pred = vmap(lambda rng_key,\n",
    "                   sample: predict(np.arange(len(_us)),\n",
    "                                   rng_key, sample, _us))(rng_keys, samples)\n",
    "result_pred, beta_traj = result_pred\n",
    "mu, pi = np.mean(result_pred, 0), np.percentile(result_pred, (10, 90), 0)"
   ]
  },
  {
   "cell_type": "markdown",
   "metadata": {},
   "source": [
    "#### Plot the results of the prediction"
   ]
  },
  {
   "cell_type": "code",
   "execution_count": null,
   "metadata": {},
   "outputs": [],
   "source": [
    "days = np.arange(_us.shape[0])\n",
    "\n",
    "plt.figure(figsize=(15, 5))\n",
    "plt.subplot(1, 3, 1)\n",
    "plt.plot(days, _us[:, 0], label=\"True\")\n",
    "plt.plot(days, mu[:, 0], label=\"Prediction\")\n",
    "plt.fill_between(days, pi[0, :, 0], pi[1, :, 0], color=\"k\", alpha=0.4)\n",
    "plt.xlabel(\"Days after 03/03\")\n",
    "plt.legend()\n",
    "plt.title(\"Susceptible\")\n",
    "\n",
    "plt.subplot(1, 3, 2)\n",
    "plt.plot(_us[:, 1], label=\"True\")\n",
    "plt.plot(mu[:, 1], label=\"Prediction\")\n",
    "plt.fill_between(days, pi[0, :, 1], pi[1, :, 1], color=\"b\", alpha=0.2)\n",
    "plt.xlabel(\"Days after 03/03\")\n",
    "plt.legend()\n",
    "plt.title(\"Infected\")\n",
    "\n",
    "plt.subplot(1, 3, 3)\n",
    "plt.plot(_us[:, 2], label=\"True\")\n",
    "plt.plot(mu[:, 2], label=\"Prediction\")\n",
    "plt.fill_between(days, pi[0, :, 2], pi[1, :, 2], color=\"y\", alpha=0.4)\n",
    "plt.xlabel(\"Days after 03/03\")\n",
    "plt.title(\"Resistant\")\n",
    "plt.legend()\n",
    "plt.show()"
   ]
  },
  {
   "cell_type": "markdown",
   "metadata": {
    "colab_type": "text",
    "id": "8vMsDU31OZHX"
   },
   "source": [
    "* The above plots show in blue the data for S-I-R categories and the model's prediction as the band (trajectories based on parameters of mcmc samples). The mean of the band is showin in orange. \n",
    "* The mean trajectory follows closely the data which is encouraging. \n",
    "* This allows us to reasonably forecast what the future would look like for the number of populations if no external agent intervenes."
   ]
  },
  {
   "cell_type": "code",
   "execution_count": null,
   "metadata": {},
   "outputs": [],
   "source": [
    "plt.plot(beta_traj.T)\n",
    "plt.show()"
   ]
  },
  {
   "cell_type": "markdown",
   "metadata": {},
   "source": [
    "* The plots show the predictions of 3 populations (predicted using parameters sampled from posterior distributions given evidence - data)\n",
    "* The uncertainity band for susceptible case is quite tight because of the scale."
   ]
  },
  {
   "cell_type": "markdown",
   "metadata": {
    "colab_type": "text",
    "id": "kBL9zs-AI0b9"
   },
   "source": [
    "#### Forecasting and Interventions"
   ]
  },
  {
   "cell_type": "markdown",
   "metadata": {},
   "source": [
    "* Now that we have the model ready with posterior distributions of the parameters, we can let the model figure out the population numbers as long as no external factors intervene (such as enforcing a new policy restricting/ isolating infected population or more stricter social distancing as is/ was common in certain countries."
   ]
  },
  {
   "cell_type": "code",
   "execution_count": null,
   "metadata": {
    "colab": {},
    "colab_type": "code",
    "id": "TSEri6EMI5Wu"
   },
   "outputs": [],
   "source": [
    "def forecast_sir(future_timesteps, sample, y, int_delta=None):\n",
    "    \"\"\"\n",
    "    Computes z (s-i-r-beta) for future_timesteps taking the parameters\n",
    "    from sample (one output of mcmc)\n",
    "    future_timesteps: number of timesteps for which forecasting is sought\n",
    "    sample: one unit (parameters from pos. dist. from mcmc samples)\n",
    "    z_init: initial populations just prior to forcasting timestep\n",
    "    (array of s-i-r-beta)\n",
    "    \"\"\"\n",
    "    sigma = sample[\"sigma\"]\n",
    "\n",
    "    traj = handlers.substitute(sir_model, sample)(len(y), y)\n",
    "    pred = numpyro.sample(\"pred\", dist.Normal(loc=traj[0][:, :-1],\n",
    "                                              scale=sigma))\n",
    "\n",
    "    fcast_z_init = np.array([*pred[-1, :], traj[0][-1, -1]])\n",
    "\n",
    "    if not int_delta:\n",
    "        new_z = sir_int(fcast_z_init, future_timesteps,\n",
    "                        sample[\"gamma\"], sample[\"delta\"])\n",
    "    else:\n",
    "        new_z = sir_int(fcast_z_init, future_timesteps,\n",
    "                        sample[\"gamma\"], int_delta)\n",
    "\n",
    "    future_timesteps = (future_timesteps+1).reshape(-1, 1)\n",
    "    sigma = sigma.reshape(1, -1)\n",
    "    _sigma = np.sqrt(future_timesteps).dot(sigma)\n",
    "\n",
    "    fcast = numpyro.sample(\"fcast\", dist.Normal(new_z[:, :-1], _sigma))\n",
    "    return pred, fcast\n",
    "\n",
    "\n",
    "def forecast(future_timesteps, rng_key, sample, y, int_delta=None):\n",
    "    \"\"\"\n",
    "    Forecast s-i-r-beta populations for future timesteps given a sample\n",
    "    and evidencewith option for intervention on transmission\n",
    "    rate (beta) change.\n",
    "    \"\"\"\n",
    "    forecast_sir_model = handlers.seed(forecast_sir, rng_seed=rng_key)\n",
    "    fcast_trce = handlers.trace(forecast_sir_model).get_trace(future_timesteps,\n",
    "                                                              sample, y,\n",
    "                                                              int_delta)\n",
    "    pred_z = fcast_trce[\"pred\"][\"value\"]\n",
    "    fcast_z = fcast_trce[\"fcast\"][\"value\"]\n",
    "    return (pred_z, fcast_z)"
   ]
  },
  {
   "cell_type": "code",
   "execution_count": null,
   "metadata": {
    "colab": {},
    "colab_type": "code",
    "id": "E47TXNREI9p3"
   },
   "outputs": [],
   "source": [
    "def plot_forecast(result):\n",
    "    result_pred, result_forecast = result\n",
    "    mu, pi = np.mean(result_pred, 0), np.percentile(result_pred, (10, 90), 0)\n",
    "    percentile = np.percentile(result_forecast[:, 1:], (10, 90), 0)\n",
    "    new_mu, new_pi = np.mean(result_forecast[:, 1:], 0), percentile\n",
    "\n",
    "    days = np.arange(len(_us) + 90)\n",
    "\n",
    "    plt.figure(figsize=(20, 5))\n",
    "    plt.subplot(1, 3, 1)\n",
    "    plt.plot(days[:len(_us)], _us[:, 0], label=\"True\")\n",
    "    plt.plot(days[:len(_us)], mu[:, 0], label=\"Prediction\")\n",
    "    plt.fill_between(days[:len(_us)],\n",
    "                     pi[0, :, 0],\n",
    "                     pi[1, :, 0],\n",
    "                     color=\"k\",\n",
    "                     alpha=0.4)\n",
    "\n",
    "    plt.plot(days[len(_us):], new_mu[:, 0], label=\"Forecast\")\n",
    "    plt.fill_between(days[len(_us):],\n",
    "                     new_pi[0, :, 0],\n",
    "                     new_pi[1, :, 0],\n",
    "                     color=\"k\",\n",
    "                     alpha=0.4)\n",
    "    plt.xlabel(\"Days after 03/03\")\n",
    "    plt.legend()\n",
    "    plt.title(\"Susceptible\")\n",
    "\n",
    "    plt.subplot(1, 3, 2)\n",
    "    plt.plot(days[:len(_us)], _us[:, 1], label=\"True\")\n",
    "    plt.plot(days[:len(_us)], mu[:, 1], label=\"Prediction\")\n",
    "    plt.fill_between(days[:len(_us)],\n",
    "                     pi[0, :, 1],\n",
    "                     pi[1, :, 1],\n",
    "                     color=\"b\",\n",
    "                     alpha=0.2)\n",
    "    plt.plot(days[len(_us):],\n",
    "             new_mu[:, 1],\n",
    "             label=\"Forecast\")\n",
    "    plt.fill_between(days[len(_us):],\n",
    "                     new_pi[0, :,1],\n",
    "                     new_pi[1, :, 1],\n",
    "                     color=\"k\",\n",
    "                     alpha=0.4)\n",
    "    plt.xlabel(\"Days after 03/03\")\n",
    "    plt.legend()\n",
    "    plt.title(\"Infected\")\n",
    "\n",
    "    plt.subplot(1, 3, 3)\n",
    "    plt.plot(days[:len(_us)], _us[:, 2], label=\"True\")\n",
    "    plt.plot(days[:len(_us)], mu[:, 2], label=\"Prediction\")\n",
    "    plt.fill_between(days[:len(_us)],\n",
    "                     pi[0, :, 2],\n",
    "                     pi[1, :, 2],\n",
    "                     color=\"y\",\n",
    "                     alpha=0.4)\n",
    "    plt.plot(days[len(_us):], new_mu[:, 2], label=\"Forecast\")\n",
    "    plt.fill_between(days[len(_us):],\n",
    "                     new_pi[0, :, 2],\n",
    "                     new_pi[1, :, 2],\n",
    "                     color=\"k\",\n",
    "                     alpha=0.4)\n",
    "    plt.xlabel(\"Days after 03/03\")\n",
    "    plt.title(\"Resistant\")\n",
    "    plt.legend()\n",
    "    plt.show()"
   ]
  },
  {
   "cell_type": "code",
   "execution_count": null,
   "metadata": {
    "colab": {},
    "colab_type": "code",
    "id": "GlOAMJx5ODXu"
   },
   "outputs": [],
   "source": [
    "# Forecast for next 90 days\n",
    "rng_keys = random.split(random.PRNGKey(3), samples[\"beta\"].shape[0])\n",
    "result_forecast = vmap(lambda rng_key,\n",
    "                       sample: forecast(np.arange(float(91)),\n",
    "                                        rng_key, sample, _us))(rng_keys, samples)"
   ]
  },
  {
   "cell_type": "code",
   "execution_count": null,
   "metadata": {
    "colab": {
     "base_uri": "https://localhost:8080/",
     "height": 361
    },
    "colab_type": "code",
    "id": "VrwOq760OGfj",
    "outputId": "8d28069f-867f-4df8-9274-2d96819a6416"
   },
   "outputs": [],
   "source": [
    "plot_forecast(result_forecast)"
   ]
  },
  {
   "cell_type": "markdown",
   "metadata": {},
   "source": [
    "* The above plots show our forecasts for S-I-R populations. The gray band is the uncertainity band whose width increases with time to realize our uncertainity in the trajectory. \n",
    "* The model forecasts, by day ~67, the daily confirmed cases will begin to see a drop (an encouraging thought). However, this is highly conditional on our assumption on the ever decreasing transmission rate (beta) which may not be too realistic in the later part of the pandemic. "
   ]
  },
  {
   "cell_type": "markdown",
   "metadata": {},
   "source": [
    "### Intervention on Delta (the rate of decay of transmission rate)"
   ]
  },
  {
   "cell_type": "markdown",
   "metadata": {},
   "source": [
    "* We set delta (the rate at which beta decays) deterministically to 0.1 (\\~2x of observed rate) and 1(\\~20x of observed rate). \n",
    "* Delta = 1. is the largest value that delta can have because with delta = 1: in the next time step beta becomes zero. "
   ]
  },
  {
   "cell_type": "code",
   "execution_count": null,
   "metadata": {
    "colab": {
     "base_uri": "https://localhost:8080/",
     "height": 361
    },
    "colab_type": "code",
    "id": "4EP38pIEOIwn",
    "outputId": "3fa19fce-0797-4ea7-db39-7378da47a971"
   },
   "outputs": [],
   "source": [
    "# Forecast for next 90 days but with delta = 0.1\n",
    "rng_keys = random.split(random.PRNGKey(3), samples[\"beta\"].shape[0])\n",
    "result_forecast_int1 = vmap(lambda rng_key,\n",
    "                            sample: forecast(np.arange(float(91)),\n",
    "                                             rng_key, sample,\n",
    "                                             _us, 0.1))(rng_keys, samples)\n",
    "\n",
    "plot_forecast(result_forecast_int1)"
   ]
  },
  {
   "cell_type": "markdown",
   "metadata": {},
   "source": [
    "* The above graph shows S-I-R populations when delta is set at 0.1 deterministically at present time. We then let the model forecast for the next 90 days. \n",
    "* In contrast with the original forecast with no interventions, the number of active infected cases will be less in this case. "
   ]
  },
  {
   "cell_type": "code",
   "execution_count": null,
   "metadata": {},
   "outputs": [],
   "source": [
    "# Forecast for next 90 days but with delta = 1\n",
    "rng_keys = random.split(random.PRNGKey(3), samples[\"beta\"].shape[0])\n",
    "result_forecast_int2 = vmap(lambda rng_key,\n",
    "                            sample: forecast(np.arange(float(91)),\n",
    "                                             rng_key, sample,\n",
    "                                             _us, 1))(rng_keys, samples)\n",
    "\n",
    "plot_forecast(result_forecast_int2)"
   ]
  },
  {
   "cell_type": "markdown",
   "metadata": {},
   "source": [
    "* The above graph shows S-I-R populations when delta=1. This is more of a sanity check on the model. Since we know delta=1.0 implies that in the next time step beta becomes 0. That means there should be no additional infections. So the susceptible population goes constant. The number of infected cases will immediately see a decrease because some of the infected population become resistant. "
   ]
  },
  {
   "cell_type": "markdown",
   "metadata": {
    "colab": {},
    "colab_type": "code",
    "id": "12mlF_s8JTNr"
   },
   "source": [
    "# Counterfactuals"
   ]
  },
  {
   "cell_type": "markdown",
   "metadata": {
    "colab": {},
    "colab_type": "code",
    "id": "4dzAarD1y4OL"
   },
   "source": [
    "#### How would the forecast look like had we practiced stricter control measures (w.r.t. social distancing or isolation of infected population or such policies)?"
   ]
  },
  {
   "cell_type": "markdown",
   "metadata": {},
   "source": [
    "* This is a counterfactual quesiton. \n",
    "* Observation (or evidence) is the current forecast.\n",
    "\n",
    "* To do this, we will need to figure out the initial parameters that led to current forecast.\n",
    "* This is already done. Current forecast is the extension of the trajectories given the S-I-R data. \n",
    "* The initial parameters can be sampled from posteriors computed by the MCMC inference algo. \n",
    "* Now we simulate the forecast with only one change: delta := 0.075 "
   ]
  },
  {
   "cell_type": "code",
   "execution_count": null,
   "metadata": {},
   "outputs": [],
   "source": [
    "def cf_forecast_sir(future_timesteps, sample, y, int_delta=None):\n",
    "    \"\"\"\n",
    "    Computes z (s-i-r-beta) for future_timesteps taking the parameters\n",
    "    from sample (one output of mcmc)\n",
    "    future_timesteps: number of timesteps for which forecasting is sought\n",
    "    sample: one unit (parameters from pos. dist. from mcmc samples)\n",
    "    z_init: initial populations just prior to forcasting timestep\n",
    "    (array of s-i-r-beta)\n",
    "    \"\"\"\n",
    "    sigma = sample[\"sigma\"]\n",
    "    sample[\"delta\"] = int_delta\n",
    "\n",
    "    timesteps = np.arange(0.0, len(y)+len(future_timesteps))\n",
    "    sigma = sigma.reshape(1, -1)\n",
    "    _sigma1 = np.sqrt((timesteps+1).reshape(-1, 1)).dot(sigma)\n",
    "\n",
    "    traj = handlers.substitute(sir_model, sample)(len(y), y)\n",
    "    # pred = numpyro.sample(\"pred\",\n",
    "    #            dist.Normal(loc=traj[0][:, :-1], scale=_sigma1))\n",
    "    # fcast_z_init = np.array([*pred[-1, :],\n",
    "    #           traj[0][-1, -1]])\n",
    "\n",
    "    fcast_z_init = traj[1]\n",
    "    future_timesteps = timesteps\n",
    "\n",
    "    if not int_delta:\n",
    "        new_z = sir_int(fcast_z_init,\n",
    "                        future_timesteps,\n",
    "                        sample[\"gamma\"],\n",
    "                        sample[\"delta\"])\n",
    "    else:\n",
    "        new_z = sir_int(fcast_z_init,\n",
    "                        future_timesteps,\n",
    "                        sample[\"gamma\"],\n",
    "                        int_delta)\n",
    "\n",
    "    # future_timesteps = (future_timesteps+len(y)).reshape(-1, 1)\n",
    "    # sigma = sigma.reshape(1, -1)\n",
    "    # _sigma = np.sqrt(future_timesteps).dot(sigma)\n",
    "\n",
    "    fcast = numpyro.sample(\"fcast\", dist.Normal(new_z[:, :-1], _sigma1))\n",
    "    return fcast\n",
    "\n",
    "\n",
    "def cf_forecast(future_timesteps, rng_key, sample, y, int_delta=None):\n",
    "    \"\"\"\n",
    "    Forecast s-i-r-beta populations for future timesteps\n",
    "    given a sample and evidencewith option for intervention\n",
    "    on transmission rate (beta) change.\n",
    "    \"\"\"\n",
    "    forecast_sir_model = handlers.seed(cf_forecast_sir,\n",
    "                                       rng_seed=rng_key)\n",
    "    fcast_trce = handlers.trace(forecast_sir_model).get_trace(future_timesteps,\n",
    "                                                              sample, y,\n",
    "                                                              int_delta)\n",
    "    # pred_z = forecast_trace[\"pred\"][\"value\"]\n",
    "    pred_z = 0.0\n",
    "    fcast_z = fcast_trce[\"fcast\"][\"value\"]\n",
    "    fcast_z = np.clip(fcast_z, 0.0)\n",
    "    return (pred_z, fcast_z)"
   ]
  },
  {
   "cell_type": "markdown",
   "metadata": {},
   "source": [
    "The computation of the forecast, and plots are very similar to interventions."
   ]
  },
  {
   "cell_type": "code",
   "execution_count": null,
   "metadata": {},
   "outputs": [],
   "source": [
    "# Forecast for next 90 days\n",
    "rng_keys = random.split(random.PRNGKey(3), samples[\"beta\"].shape[0])\n",
    "result_forecast = vmap(lambda rng_key,\n",
    "                       sample: cf_forecast(np.arange(float(91)),\n",
    "                                           rng_key, sample, _us,\n",
    "                                           int_delta=0.075))(rng_keys, samples)"
   ]
  },
  {
   "cell_type": "code",
   "execution_count": null,
   "metadata": {},
   "outputs": [],
   "source": [
    "mu, pi = np.mean(result_forecast[1], 0), np.percentile(result_forecast[1], (10, 90), 0)"
   ]
  },
  {
   "cell_type": "code",
   "execution_count": null,
   "metadata": {},
   "outputs": [],
   "source": [
    "days = np.arange(result_forecast[1].shape[1])\n",
    "idays = len(_us)\n",
    "\n",
    "plt.figure(figsize=(20, 5))\n",
    "plt.subplot(1, 3, 1)\n",
    "plt.plot(days[:idays], _us[:, 0], label=\"True\")\n",
    "plt.plot(days, mu[:, 0], label=\"Prediction\")\n",
    "plt.fill_between(days, pi[0, :, 0], pi[1, :, 0], color=\"k\", alpha=0.4)\n",
    "plt.xlabel(\"Days after 03/03\")\n",
    "plt.legend()\n",
    "plt.title(\"Susceptible\")\n",
    "\n",
    "plt.subplot(1, 3, 2)\n",
    "plt.plot(_us[:, 1], label=\"True\")\n",
    "plt.plot(mu[:, 1], label=\"Prediction\")\n",
    "plt.fill_between(days, pi[0, :, 1], pi[1, :, 1], color=\"b\", alpha=0.2)\n",
    "plt.xlabel(\"Days after 03/03\")\n",
    "plt.legend()\n",
    "plt.title(\"Infected\")\n",
    "\n",
    "plt.subplot(1, 3, 3)\n",
    "plt.plot(_us[:, 2], label=\"True\")\n",
    "plt.plot(mu[:, 2], label=\"Prediction\")\n",
    "plt.fill_between(days, pi[0, :, 2], pi[1, :, 2], color=\"y\", alpha=0.4)\n",
    "plt.xlabel(\"Days after 03/03\")\n",
    "plt.title(\"Resistant\")\n",
    "plt.legend()\n",
    "plt.show()"
   ]
  },
  {
   "cell_type": "markdown",
   "metadata": {},
   "source": [
    "* The above plots show how the US's S-I-R population varies if delta is 0.075 (~1.5x the original, unchanged rate). \n",
    "* The active infected population would not exceed 100k (mean only) which is orders of magnitude less than the current estimates of the forecast. "
   ]
  },
  {
   "cell_type": "markdown",
   "metadata": {},
   "source": [
    "#### How would the forecast look like had we NOT practiced any control measures (w.r.t. social distancing or isolation of infected population or such policies)?"
   ]
  },
  {
   "cell_type": "markdown",
   "metadata": {},
   "source": [
    "* This is an extreme case of a hypothetical scenario of when the US carries on as it would if there were no pandemic. \n",
    "* We adjust delta to 0.0"
   ]
  },
  {
   "cell_type": "code",
   "execution_count": null,
   "metadata": {},
   "outputs": [],
   "source": [
    "# Forecast for next 90 days\n",
    "rng_keys = random.split(random.PRNGKey(3), samples[\"beta\"].shape[0])\n",
    "result_forecast = vmap(lambda rng_key,\n",
    "                       sample: cf_forecast(np.arange(float(91)),\n",
    "                                           rng_key, sample,\n",
    "                                           _us,\n",
    "                                           int_delta=0.0))(rng_keys, samples)\n",
    "perc = np.percentile(result_forecast[1], (10, 90), 0)\n",
    "mu, pi = np.mean(result_forecast[1], 0), perc\n",
    "\n",
    "days = np.arange(result_forecast[1].shape[1])\n",
    "idays = len(_us)\n",
    "\n",
    "plt.figure(figsize=(20, 5))\n",
    "plt.subplot(1, 3, 1)\n",
    "plt.plot(days[:idays], _us[:, 0], label=\"True\")\n",
    "plt.plot(days, mu[:, 0], label=\"Prediction\")\n",
    "plt.fill_between(days, pi[0, :, 0], pi[1, :, 0], color=\"k\", alpha=0.4)\n",
    "plt.xlabel(\"Days after 03/03\")\n",
    "plt.legend()\n",
    "plt.title(\"Susceptible\")\n",
    "\n",
    "plt.subplot(1, 3, 2)\n",
    "plt.plot(_us[:, 1], label=\"True\")\n",
    "plt.plot(mu[:, 1], label=\"Prediction\")\n",
    "plt.fill_between(days, pi[0, :, 1], pi[1, :, 1], color=\"b\", alpha=0.2)\n",
    "plt.xlabel(\"Days after 03/03\")\n",
    "plt.legend()\n",
    "plt.title(\"Infected\")\n",
    "\n",
    "plt.subplot(1, 3, 3)\n",
    "plt.plot(_us[:, 2], label=\"True\")\n",
    "plt.plot(mu[:, 2], label=\"Prediction\")\n",
    "plt.fill_between(days, pi[0, :, 2], pi[1, :, 2], color=\"y\", alpha=0.4)\n",
    "plt.xlabel(\"Days after 03/03\")\n",
    "plt.title(\"Resistant\")\n",
    "plt.legend()\n",
    "plt.show()"
   ]
  },
  {
   "cell_type": "markdown",
   "metadata": {},
   "source": [
    "* The above plot shows the S-I-R populations for when delta=0.0\n",
    "* It turns out the whole population is infected (which is obvious and to be expected). \n",
    "* What is remarkable is that, the active infected cases would reach ~300 million very quickly. \n",
    "\n",
    "* Of course, this is very unlikely on two accounts \n",
    "    * The pandemic cannot sustain such a high rate of active infections for a sustained period of time. \n",
    "    * The number of recoveries would not be that high."
   ]
  },
  {
   "cell_type": "code",
   "execution_count": null,
   "metadata": {},
   "outputs": [],
   "source": []
  }
 ],
 "metadata": {
  "accelerator": "GPU",
  "colab": {
   "collapsed_sections": [],
   "name": "CausalProjWalkthrough.ipynb",
   "provenance": []
  },
  "kernelspec": {
   "display_name": "Python 3",
   "language": "python",
   "name": "python3"
  },
  "language_info": {
   "codemirror_mode": {
    "name": "ipython",
    "version": 3
   },
   "file_extension": ".py",
   "mimetype": "text/x-python",
   "name": "python",
   "nbconvert_exporter": "python",
   "pygments_lexer": "ipython3",
   "version": "3.8.3"
  }
 },
 "nbformat": 4,
 "nbformat_minor": 1
}
